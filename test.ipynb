{
 "cells": [
  {
   "cell_type": "code",
   "execution_count": 8,
   "metadata": {
    "collapsed": true
   },
   "outputs": [],
   "source": [
    "from lolviz import *\n",
    "import os\n",
    "os.environ[\"PATH\"] += os.pathsep + 'C:/Program Files (x86)/Graphviz2.38/bin'"
   ]
  },
  {
   "cell_type": "code",
   "execution_count": null,
   "metadata": {},
   "outputs": [
    {
     "data": {
      "text/plain": [
       "'InputFile.dot'"
      ]
     },
     "execution_count": 29,
     "metadata": {},
     "output_type": "execute_result"
    }
   ],
   "source": [
    "import random\n",
    "SEGMENT_TABLE_SIZE = 16  # 段表寄存器大小\n",
    "segment_table = []  # 段表寄存器\n",
    "MAX_SEGMENT_INDEX = 64  # 段号最大长度\n",
    "MAX_SEGMENT_INNER = 64  # 每个段最大长度\n",
    "MAX_RAM_SIZE = 128  # 内存大小\n",
    "\n",
    "\n",
    "class Segment:  # 段表\n",
    "    def __init__(self, index, size, ex_address, is_paged=0, ram_address=-1):\n",
    "        self.ram_address = ram_address  # 内存中起始地址\n",
    "        self.段号 = index  # 段号\n",
    "        self.size = size  # 段长\n",
    "        self.isPaged = is_paged  # 是否被装入内存\n",
    "        self.ex_address = ex_address  # 外存中起始地址\n",
    "\n",
    "\n",
    "class JCB:\n",
    "    def __init__(self, name, segment_num, segment_size=[], random_segment_size=1):\n",
    "        self.name = name\n",
    "        self.segment_list = []\n",
    "        #is_apply, self.segment_list_index = apply_space(1, segment_num)\n",
    "        is_apply = 1\n",
    "        if is_apply:  # 如果段表寄存器未满\n",
    "            for i in range(segment_num):\n",
    "                if random_segment_size:  # 随机段长度\n",
    "                    self.segment_list.append(Segment(index=i, size=random.randint(1, MAX_SEGMENT_INNER),\n",
    "                                                     ex_address=random.randint(100000, 262144)))\n",
    "                else:\n",
    "                    self.segment_list.append(Segment(index=i, size=segment_size[i],\n",
    "                                                     ex_address=random.randint(100000, 262144)))\n",
    "\n",
    "    def apply_segment(self, s, w):  # 段号S 段内位移d\n",
    "        if s >= self.segment_list_index:\n",
    "            return -1\n",
    "        if w > self.segment_list[s].size:\n",
    "            return -4\n",
    "        return self.segment_list[s].ex_address * 1000 + w\n",
    "\n",
    "\n",
    "objviz([JCB(\"test\", 2)]).save('InputFile.dot')\n"
   ]
  },
  {
   "cell_type": "code",
   "execution_count": 1,
   "metadata": {},
   "outputs": [
    {
     "data": {
      "text/plain": [
       "0"
      ]
     },
     "execution_count": 1,
     "metadata": {},
     "output_type": "execute_result"
    }
   ],
   "source": [
    "from subprocess import check_call\n",
    "check_call(['dot','-Tpng','memory.dot','-o','memory.png'])"
   ]
  },
  {
   "cell_type": "code",
   "execution_count": null,
   "metadata": {},
   "outputs": [],
   "source": []
  }
 ],
 "metadata": {
  "kernelspec": {
   "display_name": "Python 2",
   "language": "python",
   "name": "python2"
  },
  "language_info": {
   "codemirror_mode": {
    "name": "ipython",
    "version": 2
   },
   "file_extension": ".py",
   "mimetype": "text/x-python",
   "name": "python",
   "nbconvert_exporter": "python",
   "pygments_lexer": "ipython2",
   "version": "2.7.6"
  }
 },
 "nbformat": 4,
 "nbformat_minor": 0
}
